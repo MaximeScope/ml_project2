{
 "cells": [
  {
   "cell_type": "code",
   "execution_count": null,
   "metadata": {},
   "outputs": [],
   "source": [
    "from omegaconf import DictConfig, OmegaConf\n",
    "\n",
    "import torch\n",
    "import numpy as np\n",
    "import matplotlib.pyplot as plt\n",
    "from functools import partial\n",
    "\n",
    "from src import data_loader, train, test, plotting, submissions, unet\n",
    "\n",
    "cfg = OmegaConf.load(\"config.yaml\")\n",
    "\n",
    "print(OmegaConf.to_yaml(cfg))\n",
    "\n",
    "# ===== Torch config =====\n",
    "device = cfg.device\n",
    "torch.manual_seed(cfg.seed)\n",
    "torch.set_default_dtype(getattr(torch, cfg.tensor_dtype))\n",
    "\n",
    "# ===== Data Loading =====\n",
    "train_loader, test_loader = data_loader.get_loader(cfg)\n",
    "\n",
    "# ===== Model, Optimizer and Loss function =====\n",
    "model = unet.UNet()\n",
    "model = model.to(device=device)\n",
    "optimizer = torch.optim.AdamW(\n",
    "    model.parameters(), lr=cfg.training.lr, weight_decay=cfg.training.weight_decay\n",
    ")\n",
    "loss_fn = torch.nn.functional.binary_cross_entropy"
   ]
  },
  {
   "cell_type": "markdown",
   "metadata": {},
   "source": [
    "## Model training ##"
   ]
  },
  {
   "cell_type": "code",
   "execution_count": null,
   "metadata": {},
   "outputs": [],
   "source": [
    "train_losses, train_accs = train.train_model(\n",
    "    model,\n",
    "    optimizer,\n",
    "    loss_fn,\n",
    "    train_loader,\n",
    "    cfg,\n",
    ")"
   ]
  },
  {
   "cell_type": "markdown",
   "metadata": {},
   "source": [
    "## Model testing ##"
   ]
  },
  {
   "cell_type": "code",
   "execution_count": null,
   "metadata": {},
   "outputs": [],
   "source": [
    "test_losses, test_accuracies = test.test_model(\n",
    "    model,\n",
    "    device,\n",
    "    test_loader,\n",
    "    loss_fn=partial(loss_fn, reduction=\"none\"),\n",
    ")"
   ]
  },
  {
   "cell_type": "markdown",
   "metadata": {},
   "source": [
    "## Preditions ##"
   ]
  },
  {
   "cell_type": "code",
   "execution_count": null,
   "metadata": {},
   "outputs": [],
   "source": [
    "predictions = submissions.get_predictions(model, test_loader, cfg)"
   ]
  },
  {
   "cell_type": "markdown",
   "metadata": {},
   "source": [
    "## Plotting of predicitons ##"
   ]
  },
  {
   "cell_type": "code",
   "execution_count": null,
   "metadata": {},
   "outputs": [],
   "source": [
    "plotting.plot_pred_on(test_loader, predictions, 1, cfg)"
   ]
  },
  {
   "cell_type": "markdown",
   "metadata": {},
   "source": [
    "## Make submissions ##"
   ]
  },
  {
   "cell_type": "code",
   "execution_count": null,
   "metadata": {},
   "outputs": [],
   "source": [
    "patched_preds = submissions.make_submission(predictions, cfg)"
   ]
  },
  {
   "cell_type": "markdown",
   "metadata": {},
   "source": [
    "## Plotting of patched predictions ##"
   ]
  },
  {
   "cell_type": "code",
   "execution_count": null,
   "metadata": {},
   "outputs": [],
   "source": [
    "plotting.plot_pred_on(test_loader, patched_preds, 1, cfg)"
   ]
  }
 ],
 "metadata": {
  "kernelspec": {
   "display_name": "Python 3",
   "language": "python",
   "name": "python3"
  },
  "language_info": {
   "codemirror_mode": {
    "name": "ipython",
    "version": 3
   },
   "file_extension": ".py",
   "mimetype": "text/x-python",
   "name": "python",
   "nbconvert_exporter": "python",
   "pygments_lexer": "ipython3",
   "version": "3.11.5"
  },
  "orig_nbformat": 4
 },
 "nbformat": 4,
 "nbformat_minor": 2
}
